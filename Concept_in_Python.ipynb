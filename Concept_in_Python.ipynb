{
  "nbformat": 4,
  "nbformat_minor": 0,
  "metadata": {
    "colab": {
      "name": "Concept in Python.ipynb",
      "provenance": [],
      "authorship_tag": "ABX9TyOu8l/BCbHV7fRBgGON0IRE",
      "include_colab_link": true
    },
    "kernelspec": {
      "name": "python3",
      "display_name": "Python 3"
    },
    "language_info": {
      "name": "python"
    }
  },
  "cells": [
    {
      "cell_type": "markdown",
      "metadata": {
        "id": "view-in-github",
        "colab_type": "text"
      },
      "source": [
        "<a href=\"https://colab.research.google.com/github/Cally02/OOP---58002/blob/main/Concept_in_Python.ipynb\" target=\"_parent\"><img src=\"https://colab.research.google.com/assets/colab-badge.svg\" alt=\"Open In Colab\"/></a>"
      ]
    },
    {
      "cell_type": "markdown",
      "source": [
        "Create a Class"
      ],
      "metadata": {
        "id": "rStM9ySMZT84"
      }
    },
    {
      "cell_type": "code",
      "source": [
        "class Car:\n",
        "  pass"
      ],
      "metadata": {
        "id": "fh8xpG5IZYOX"
      },
      "execution_count": 1,
      "outputs": []
    },
    {
      "cell_type": "markdown",
      "source": [
        "Object Methods"
      ],
      "metadata": {
        "id": "tPsT8TxYZZW3"
      }
    },
    {
      "cell_type": "code",
      "source": [
        "class Person:\n",
        "  def __init__(self,name, age):\n",
        "    self.name = name\n",
        "    self.age = age\n",
        "  def myFunction(self):\n",
        "    print(\"Hello! My name is\",self.name)\n",
        "    print(\"I am\",self.age, \"years old\")\n",
        "\n",
        "p1 = Person(\"Angela\",19)\n",
        "p1.myFunction()"
      ],
      "metadata": {
        "colab": {
          "base_uri": "https://localhost:8080/"
        },
        "id": "ZXpBstFpZsm2",
        "outputId": "c915d116-030c-4f9c-df08-752cc8e3e380"
      },
      "execution_count": 2,
      "outputs": [
        {
          "output_type": "stream",
          "name": "stdout",
          "text": [
            "Hello! My name is Angela\n",
            "I am 19 years old\n"
          ]
        }
      ]
    },
    {
      "cell_type": "markdown",
      "source": [
        "Create an Object "
      ],
      "metadata": {
        "id": "EfQBGpBIZ2L2"
      }
    },
    {
      "cell_type": "code",
      "source": [
        "class Car:\n",
        "  def __init__(self,name, color):   # all classes have function called __init__\n",
        "    self.name = name                    # attribute names of class named Car\n",
        "    self.color = color\n",
        "  \n",
        "  def decription(self):\n",
        "    return \"The\" + self.name +\"has a color\" + self.color\n",
        "  \n",
        "  def show(self):\n",
        "    print(\"The\"+\" \"+self.name+\" \" + \"has a color\"+\" \"+self.color)\n",
        "\n",
        "\n",
        "car1 = Car(\"Honda City\",\"Black\")\n",
        "car1.show()"
      ],
      "metadata": {
        "colab": {
          "base_uri": "https://localhost:8080/"
        },
        "id": "APmknDN4Z4GW",
        "outputId": "aeccb6ab-45d1-4362-9f27-23766bbd9fc9"
      },
      "execution_count": 4,
      "outputs": [
        {
          "output_type": "stream",
          "name": "stdout",
          "text": [
            "The Honda City has a color Black\n"
          ]
        }
      ]
    },
    {
      "cell_type": "markdown",
      "source": [
        "Modify an object Property "
      ],
      "metadata": {
        "id": "J4rM40njZ9OO"
      }
    },
    {
      "cell_type": "code",
      "source": [
        "car1.name = \"Mitsubishi\"\n",
        "print(car1.name)\n",
        "\n",
        "car1.color = \"Red\"\n",
        "print(car1.color)"
      ],
      "metadata": {
        "colab": {
          "base_uri": "https://localhost:8080/"
        },
        "id": "vKd-blmYaDJO",
        "outputId": "a7e8be18-f6b2-48a2-9603-681881cb1ada"
      },
      "execution_count": 6,
      "outputs": [
        {
          "output_type": "stream",
          "name": "stdout",
          "text": [
            "Mitsubishi\n",
            "Red\n"
          ]
        }
      ]
    },
    {
      "cell_type": "code",
      "source": [
        "car1.show()"
      ],
      "metadata": {
        "colab": {
          "base_uri": "https://localhost:8080/"
        },
        "id": "gxQRB8BkaJ9_",
        "outputId": "4ec94bce-c614-40c6-ec33-effb27bc117a"
      },
      "execution_count": 7,
      "outputs": [
        {
          "output_type": "stream",
          "name": "stdout",
          "text": [
            "The Mitsubishi has a color Red\n"
          ]
        }
      ]
    },
    {
      "cell_type": "markdown",
      "source": [
        "Delete an Object property "
      ],
      "metadata": {
        "id": "qcc4PqS9aMYI"
      }
    },
    {
      "cell_type": "code",
      "source": [
        "class Car():                          #Create a class named car\n",
        "  def __init__(self,name,color):\n",
        "    self.name = name                  #represents the instance of class named Car\n",
        "    self.color = color                \n",
        "\n",
        "  def description(self):\n",
        "    return self.name, self.color\n",
        "  \n",
        "  def display(self):\n",
        "    print (\"The name and color of the car \", self.description())\n",
        "obj1 = Car(\"Mitsubishi\",\"blue\")\n",
        "obj1.display()"
      ],
      "metadata": {
        "colab": {
          "base_uri": "https://localhost:8080/"
        },
        "id": "ObivNqxIafb-",
        "outputId": "0b320bd0-da0c-446e-dd13-9132410c3414"
      },
      "execution_count": 10,
      "outputs": [
        {
          "output_type": "stream",
          "name": "stdout",
          "text": [
            "The name and color of the car  ('Mitsubishi', 'blue')\n"
          ]
        }
      ]
    },
    {
      "cell_type": "code",
      "source": [
        "del car1.color\n",
        "print(car1.color)"
      ],
      "metadata": {
        "id": "hzsCV1z_asFe"
      },
      "execution_count": null,
      "outputs": []
    },
    {
      "cell_type": "code",
      "source": [
        "print(car1.name)\n",
        "print(car1.color)"
      ],
      "metadata": {
        "id": "vdKC9vONauge"
      },
      "execution_count": null,
      "outputs": []
    },
    {
      "cell_type": "markdown",
      "source": [
        "Application 1 - Write a Python program that computes for the Area and Perimeter of a Square, and create a class name Square with side as its attribute"
      ],
      "metadata": {
        "id": "RVzx4YtZa5_-"
      }
    },
    {
      "cell_type": "code",
      "source": [
        "#Area of a Square = s*s\n",
        "#Perimeter of a Square = 4*s = s+s+s+s\n",
        "\n",
        "class Square:\n",
        "  def __init__(self,side):\n",
        "    self.side = side\n",
        "\n",
        "  def Area(self):\n",
        "    return self.side*self.side\n",
        "  \n",
        "  def Perimeter(self):\n",
        "    return 4*(self.side)\n",
        "\n",
        "  def display(self):\n",
        "    print(\"The area of a square is\", self.Area())\n",
        "    print(\"The perimeter of a square is\", self.Perimeter())\n",
        "\n",
        "sq1 = Square(2)\n",
        "sq1.display()"
      ],
      "metadata": {
        "colab": {
          "base_uri": "https://localhost:8080/"
        },
        "id": "iH9tCMfea9dn",
        "outputId": "177cb47c-f564-41f4-974e-57e79c98c439"
      },
      "execution_count": 14,
      "outputs": [
        {
          "output_type": "stream",
          "name": "stdout",
          "text": [
            "The area of a square is 4\n",
            "The perimeter of a square is 8\n"
          ]
        }
      ]
    },
    {
      "cell_type": "markdown",
      "source": [
        "Application 2 - Write a Python program that is display your student no. and fullname(Surname, First Name, MI) and create a class name OOP_58002\n"
      ],
      "metadata": {
        "id": "uhUb90BKbEq9"
      }
    },
    {
      "cell_type": "code",
      "source": [
        "class Person:\n",
        "  def __init__(self, student, number):\n",
        "    self.student = student\n",
        "    self.number = number\n",
        "  def myFunction(self):\n",
        "    print(\"Hello! I am\", self.student) \n",
        "    print(\"and my student number is\", self.number)\n",
        "    print(\"Section : OOP-58002\")\n",
        "\n",
        "p1 = Person(\"Cal, Angela A.\", 202111287)\n",
        "p1.myFunction()"
      ],
      "metadata": {
        "colab": {
          "base_uri": "https://localhost:8080/"
        },
        "id": "O4WKMvyKbTjm",
        "outputId": "85bd27e0-5643-43b9-c2e2-7b5e7699a4f4"
      },
      "execution_count": 18,
      "outputs": [
        {
          "output_type": "stream",
          "name": "stdout",
          "text": [
            "Hello! I am Cal, Angela A.\n",
            "and my student number is 202111287\n",
            "Section : OOP-58002\n"
          ]
        }
      ]
    }
  ]
}