{
  "nbformat": 4,
  "nbformat_minor": 0,
  "metadata": {
    "colab": {
      "name": "Long Quiz 1.ipynb",
      "provenance": [],
      "authorship_tag": "ABX9TyOIxHiZZ2Gj5YcjZ59M704U",
      "include_colab_link": true
    },
    "kernelspec": {
      "name": "python3",
      "display_name": "Python 3"
    },
    "language_info": {
      "name": "python"
    }
  },
  "cells": [
    {
      "cell_type": "markdown",
      "metadata": {
        "id": "view-in-github",
        "colab_type": "text"
      },
      "source": [
        "<a href=\"https://colab.research.google.com/github/Cally02/OOP---58002/blob/main/Long_Quiz_1.ipynb\" target=\"_parent\"><img src=\"https://colab.research.google.com/assets/colab-badge.svg\" alt=\"Open In Colab\"/></a>"
      ]
    },
    {
      "cell_type": "code",
      "source": [
        "Celsius_1 = float(input(\"Temperature value in degree Celsius:\"))\n",
        "\n",
        "#converting temperature from Celsius to Fahrenheit\n",
        "#Formula\n",
        "fahrenheit_1 = (Celsius_1 * 1.8 ) + 32\n",
        "\n",
        "#printing the results\n",
        "print ('The %.2f degree Celsius is equal to: %.2f Fahrenheit'  \n",
        "      %(Celsius_1, fahrenheit_1)) \n",
        " \n",
        "#converting Fahrenheit to Celsius\n",
        "print(\"----OR----\")  \n",
        "Fahrenheit_2 = float( input(\"Temperature value in degree Fahrenheit: \" ))  \n",
        "celsius_2 = (Fahrenheit_2 - 32) * 5/9 \n",
        "\n",
        "# Print the result  \n",
        "print ('The %.2f degree Celsius is equal to: %.2f Fahrenheit'  \n",
        "      %(Fahrenheit_2, celsius_2))\n"
      ],
      "metadata": {
        "colab": {
          "base_uri": "https://localhost:8080/"
        },
        "id": "QjaGzyIoQV2w",
        "outputId": "9ab101e9-f821-4aad-df0b-dd1ed935024f"
      },
      "execution_count": 2,
      "outputs": [
        {
          "output_type": "stream",
          "name": "stdout",
          "text": [
            "Temperature value in degree Celsius:35\n",
            "The 35.00 degree Celsius is equal to: 95.00 Fahrenheit\n",
            "----OR----\n",
            "Temperature value in degree Fahrenheit: 40\n",
            "The 40.00 degree Celsius is equal to: 4.44 Fahrenheit\n"
          ]
        }
      ]
    }
  ]
}