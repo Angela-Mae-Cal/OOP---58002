{
  "nbformat": 4,
  "nbformat_minor": 0,
  "metadata": {
    "colab": {
      "name": "Fundamentals of Python.ipynb",
      "provenance": [],
      "collapsed_sections": [],
      "authorship_tag": "ABX9TyPfuiBEX0JtxZoVnibHe3kI",
      "include_colab_link": true
    },
    "kernelspec": {
      "name": "python3",
      "display_name": "Python 3"
    },
    "language_info": {
      "name": "python"
    }
  },
  "cells": [
    {
      "cell_type": "markdown",
      "metadata": {
        "id": "view-in-github",
        "colab_type": "text"
      },
      "source": [
        "<a href=\"https://colab.research.google.com/github/Cally02/OOP---58002/blob/main/Fundamentals_of_Python.ipynb\" target=\"_parent\"><img src=\"https://colab.research.google.com/assets/colab-badge.svg\" alt=\"Open In Colab\"/></a>"
      ]
    },
    {
      "cell_type": "markdown",
      "source": [
        "Python Identation"
      ],
      "metadata": {
        "id": "qNEiqfWxcAuD"
      }
    },
    {
      "cell_type": "code",
      "source": [
        "if 5>2:\n",
        "  print (\"Yes\")"
      ],
      "metadata": {
        "colab": {
          "base_uri": "https://localhost:8080/"
        },
        "id": "kKODdevoclbT",
        "outputId": "accdac8e-e20c-4cbe-afc6-76dab912c6f4"
      },
      "execution_count": null,
      "outputs": [
        {
          "output_type": "stream",
          "name": "stdout",
          "text": [
            "Yes\n"
          ]
        }
      ]
    },
    {
      "cell_type": "markdown",
      "source": [
        "Python comments "
      ],
      "metadata": {
        "id": "PduNzjLOcwGb"
      }
    },
    {
      "cell_type": "code",
      "source": [
        "#This is a comment\n",
        "print (\"Hello world\")"
      ],
      "metadata": {
        "colab": {
          "base_uri": "https://localhost:8080/"
        },
        "id": "gDIsLP8vcz7K",
        "outputId": "ce9a2680-8c02-4a88-f487-269d2e0f7d49"
      },
      "execution_count": null,
      "outputs": [
        {
          "output_type": "stream",
          "name": "stdout",
          "text": [
            "Hello world\n"
          ]
        }
      ]
    },
    {
      "cell_type": "markdown",
      "source": [
        "Python Variable"
      ],
      "metadata": {
        "id": "Blj2u04edV2j"
      }
    },
    {
      "cell_type": "code",
      "source": [
        "x = \"sally\"\n",
        "a = 0 \n",
        "a,b,c=0,1,2\n",
        "print (x)\n",
        "print (a)\n",
        "print (b)\n",
        "print (c)\n",
        "print (a,b,c)"
      ],
      "metadata": {
        "colab": {
          "base_uri": "https://localhost:8080/"
        },
        "id": "C5wArTrxdjey",
        "outputId": "7a6ebe20-1615-4b3a-ff8a-760e27513c9d"
      },
      "execution_count": null,
      "outputs": [
        {
          "output_type": "stream",
          "name": "stdout",
          "text": [
            "sally\n",
            "0\n",
            "1\n",
            "2\n",
            "0 1 2\n"
          ]
        }
      ]
    },
    {
      "cell_type": "markdown",
      "source": [
        "Casting"
      ],
      "metadata": {
        "id": "P39hF12peSoq"
      }
    },
    {
      "cell_type": "code",
      "source": [
        "d = 4\n",
        "d - int (4)\n",
        "print (d)"
      ],
      "metadata": {
        "colab": {
          "base_uri": "https://localhost:8080/"
        },
        "id": "xeeGBIDWeYpJ",
        "outputId": "119f61f4-ef3c-4fd3-8082-6573c53d2653"
      },
      "execution_count": null,
      "outputs": [
        {
          "output_type": "stream",
          "name": "stdout",
          "text": [
            "4\n"
          ]
        }
      ]
    },
    {
      "cell_type": "markdown",
      "source": [
        "Type () Function\n"
      ],
      "metadata": {
        "id": "M-QAjm8TejtS"
      }
    },
    {
      "cell_type": "code",
      "source": [
        "d = 4\n",
        "d - int(4)\n",
        "print (type(d))"
      ],
      "metadata": {
        "colab": {
          "base_uri": "https://localhost:8080/"
        },
        "id": "ry_1uxe4em2Z",
        "outputId": "2756fe71-99db-4713-bc67-2576a65df6e0"
      },
      "execution_count": null,
      "outputs": [
        {
          "output_type": "stream",
          "name": "stdout",
          "text": [
            "<class 'int'>\n"
          ]
        }
      ]
    },
    {
      "cell_type": "markdown",
      "source": [
        "Double quotes and single quotes"
      ],
      "metadata": {
        "id": "zAHH2Hezez1Z"
      }
    },
    {
      "cell_type": "code",
      "source": [
        "#y = \"Ana\"\n",
        "#print(y)\n",
        "y = 'anna'\n",
        "Y = \"Robert\"\n",
        "print(y)\n",
        "print(Y)"
      ],
      "metadata": {
        "colab": {
          "base_uri": "https://localhost:8080/"
        },
        "id": "zejfoTwLe5fp",
        "outputId": "7880cbbf-5703-45a6-9227-8c1eecacb1e1"
      },
      "execution_count": null,
      "outputs": [
        {
          "output_type": "stream",
          "name": "stdout",
          "text": [
            "anna\n",
            "Robert\n"
          ]
        }
      ]
    },
    {
      "cell_type": "markdown",
      "source": [
        "Multiple Variables with one value\n"
      ],
      "metadata": {
        "id": "_L5gmSFxfVp7"
      }
    },
    {
      "cell_type": "code",
      "source": [
        "#x = \"tony\"\n",
        "k=l=m=\"four\"\n",
        "print(k)\n",
        "print(l)\n",
        "print(m)\n",
        "print(k,l,m)"
      ],
      "metadata": {
        "colab": {
          "base_uri": "https://localhost:8080/"
        },
        "id": "eRBRP0IyfZFh",
        "outputId": "d085548f-caed-4b03-948e-dfbb24698f5b"
      },
      "execution_count": null,
      "outputs": [
        {
          "output_type": "stream",
          "name": "stdout",
          "text": [
            "four\n",
            "four\n",
            "four\n",
            "four four four\n"
          ]
        }
      ]
    },
    {
      "cell_type": "markdown",
      "source": [
        "Output Variable"
      ],
      "metadata": {
        "id": "zqxPYXRYgK6J"
      }
    },
    {
      "cell_type": "code",
      "source": [
        "print('Python programming is enjoying')\n",
        "h = \"enjoying\"\n",
        "p = \"Python programming is\"\n",
        "print(\"Python programmingi is\" + h)\n",
        "print(p+\"\"+\"\"+h)\n"
      ],
      "metadata": {
        "colab": {
          "base_uri": "https://localhost:8080/"
        },
        "id": "Js2ewPfSgPFp",
        "outputId": "d2ac1cc1-e465-458d-f49b-00b9b4f65223"
      },
      "execution_count": null,
      "outputs": [
        {
          "output_type": "stream",
          "name": "stdout",
          "text": [
            "Python programming is enjoying\n",
            "Python programmingi isenjoying\n",
            "Python programming isenjoying\n"
          ]
        }
      ]
    },
    {
      "cell_type": "markdown",
      "source": [
        "Arithmetic Operations\n"
      ],
      "metadata": {
        "id": "yhobTEp6hRv4"
      }
    },
    {
      "cell_type": "code",
      "source": [
        "print(c+d) # c - 2, d = 4\n",
        "print(d-c)\n",
        "print(d*c)\n",
        "print(int(d/c))\n",
        "print (d%c)\n",
        "print(3//2) # 1.50\n",
        "print(d**c)\n"
      ],
      "metadata": {
        "colab": {
          "base_uri": "https://localhost:8080/"
        },
        "id": "wLjtm2e4hVX4",
        "outputId": "0c39fd77-afb1-489d-a3a5-ffa950119604"
      },
      "execution_count": null,
      "outputs": [
        {
          "output_type": "stream",
          "name": "stdout",
          "text": [
            "6\n",
            "2\n",
            "8\n",
            "2\n",
            "0\n",
            "1\n",
            "16\n"
          ]
        }
      ]
    },
    {
      "cell_type": "markdown",
      "source": [
        "Assignment Operators"
      ],
      "metadata": {
        "id": "Ged9Q1BNharg"
      }
    },
    {
      "cell_type": "code",
      "source": [
        "q=10\n",
        "q+=5 #same as q=q+5\n",
        "print(q) #same as q=q+5, q 10+5+15"
      ],
      "metadata": {
        "colab": {
          "base_uri": "https://localhost:8080/"
        },
        "id": "gR9jL0BMhdLw",
        "outputId": "3f150a8c-1d4e-4493-ff3f-fbc26a45d1b0"
      },
      "execution_count": null,
      "outputs": [
        {
          "output_type": "stream",
          "name": "stdout",
          "text": [
            "15\n"
          ]
        }
      ]
    },
    {
      "cell_type": "markdown",
      "source": [
        "Boolean Logic\n"
      ],
      "metadata": {
        "id": "pR5n3GZLiIdY"
      }
    },
    {
      "cell_type": "code",
      "source": [
        " s = 10\n",
        " print(s^2)\n",
        " print(s|2)\n"
      ],
      "metadata": {
        "colab": {
          "base_uri": "https://localhost:8080/"
        },
        "id": "sewqwyvuiKpw",
        "outputId": "24c3dfa7-7c3c-4cdf-ced2-01dc3963b97a"
      },
      "execution_count": null,
      "outputs": [
        {
          "output_type": "stream",
          "name": "stdout",
          "text": [
            "8\n",
            "10\n"
          ]
        }
      ]
    },
    {
      "cell_type": "markdown",
      "source": [
        "Comparison Operators"
      ],
      "metadata": {
        "id": "2icWmPB6iOnP"
      }
    },
    {
      "cell_type": "code",
      "source": [
        "print(s>q)\n",
        "print(s==s)\n",
        "print(q==q)"
      ],
      "metadata": {
        "colab": {
          "base_uri": "https://localhost:8080/"
        },
        "id": "90SBA1t9TDaQ",
        "outputId": "6b24b0a5-0644-4772-e5b1-d07512ed3dbd"
      },
      "execution_count": null,
      "outputs": [
        {
          "output_type": "stream",
          "name": "stdout",
          "text": [
            "False\n",
            "True\n",
            "True\n"
          ]
        }
      ]
    },
    {
      "cell_type": "markdown",
      "source": [
        "Logical Operators"
      ],
      "metadata": {
        "id": "gFfvYwX5ivsH"
      }
    },
    {
      "cell_type": "code",
      "source": [
        "s>q and s==s #False \n",
        "s>q or s==s #True\n",
        "\n",
        "print(s>q and s==s)\n",
        "print(s>q or s==s)"
      ],
      "metadata": {
        "colab": {
          "base_uri": "https://localhost:8080/"
        },
        "id": "vSCoZbswTm3A",
        "outputId": "48ea3b59-44c3-4890-edd9-a8fbf1650299"
      },
      "execution_count": null,
      "outputs": [
        {
          "output_type": "stream",
          "name": "stdout",
          "text": [
            "False\n",
            "True\n"
          ]
        }
      ]
    },
    {
      "cell_type": "markdown",
      "source": [
        "Identity Operators"
      ],
      "metadata": {
        "id": "-64yUdSpkhLG"
      }
    },
    {
      "cell_type": "code",
      "source": [
        "s is q\n",
        "print (s is not q)"
      ],
      "metadata": {
        "colab": {
          "base_uri": "https://localhost:8080/"
        },
        "id": "I8vAfPn5kn1u",
        "outputId": "b1142f04-2c36-425b-8a2b-d981ba0e582c"
      },
      "execution_count": null,
      "outputs": [
        {
          "output_type": "stream",
          "name": "stdout",
          "text": [
            "True\n"
          ]
        }
      ]
    },
    {
      "cell_type": "markdown",
      "source": [
        "Bitwise Operators Shift right"
      ],
      "metadata": {
        "id": "5vXmSLKbkroN"
      }
    },
    {
      "cell_type": "code",
      "source": [
        "u=2 #1010 in binary\n",
        "print(u<<1) \n",
        "\n",
        "g=10\n",
        "print(g<<1)\n"
      ],
      "metadata": {
        "colab": {
          "base_uri": "https://localhost:8080/"
        },
        "id": "PwEeV_0dUyBA",
        "outputId": "3eb8ae39-9e99-45f6-e89e-22cf3fd981cb"
      },
      "execution_count": null,
      "outputs": [
        {
          "output_type": "stream",
          "name": "stdout",
          "text": [
            "4\n",
            "20\n"
          ]
        }
      ]
    }
  ]
}