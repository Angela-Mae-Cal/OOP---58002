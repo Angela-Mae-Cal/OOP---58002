{
  "nbformat": 4,
  "nbformat_minor": 0,
  "metadata": {
    "colab": {
      "name": "Operations and Expressions.ipynb",
      "provenance": [],
      "authorship_tag": "ABX9TyM+PoZJ0dY9a/5kRi9q+UWI",
      "include_colab_link": true
    },
    "kernelspec": {
      "name": "python3",
      "display_name": "Python 3"
    },
    "language_info": {
      "name": "python"
    }
  },
  "cells": [
    {
      "cell_type": "markdown",
      "metadata": {
        "id": "view-in-github",
        "colab_type": "text"
      },
      "source": [
        "<a href=\"https://colab.research.google.com/github/Cally02/OOP---58002/blob/main/Operations_and_Expressions.ipynb\" target=\"_parent\"><img src=\"https://colab.research.google.com/assets/colab-badge.svg\" alt=\"Open In Colab\"/></a>"
      ]
    },
    {
      "cell_type": "markdown",
      "source": [
        "Boolean Operators"
      ],
      "metadata": {
        "id": "yp8pIvbwGpz-"
      }
    },
    {
      "cell_type": "code",
      "source": [
        "a = 7\n",
        "b =6\n",
        "\n",
        "print(10>9)\n",
        "print(10<9)\n",
        "print(a>b)\n"
      ],
      "metadata": {
        "colab": {
          "base_uri": "https://localhost:8080/"
        },
        "id": "6EYcZG80D3Gz",
        "outputId": "ea0a98d3-38fb-4560-c9b9-5a6c39871ec5"
      },
      "execution_count": null,
      "outputs": [
        {
          "output_type": "stream",
          "name": "stdout",
          "text": [
            "True\n",
            "False\n",
            "True\n"
          ]
        }
      ]
    },
    {
      "cell_type": "markdown",
      "source": [
        "Bool () Function"
      ],
      "metadata": {
        "id": "Yv5yHYZxG6t0"
      }
    },
    {
      "cell_type": "code",
      "source": [
        "print(bool(\"Maria\"))\n",
        "print(bool(1))\n",
        "print(bool(0))\n",
        "print(bool(None))\n",
        "print(bool(False))\n",
        "print(bool(True))"
      ],
      "metadata": {
        "colab": {
          "base_uri": "https://localhost:8080/"
        },
        "id": "lyKLgigfEzON",
        "outputId": "681503f1-df98-4704-c1d3-a41587d53d59"
      },
      "execution_count": null,
      "outputs": [
        {
          "output_type": "stream",
          "name": "stdout",
          "text": [
            "True\n",
            "True\n",
            "False\n",
            "False\n",
            "False\n",
            "True\n"
          ]
        }
      ]
    },
    {
      "cell_type": "markdown",
      "source": [
        "Functions can return a Boolean"
      ],
      "metadata": {
        "id": "02ez5glKHQKF"
      }
    },
    {
      "cell_type": "code",
      "source": [
        "def my_Function():\n",
        "  return True\n",
        "print(my_Function())"
      ],
      "metadata": {
        "colab": {
          "base_uri": "https://localhost:8080/"
        },
        "id": "uY6vZFHBFtWZ",
        "outputId": "a57dabd9-4f29-4104-8fbf-54638817b25e"
      },
      "execution_count": null,
      "outputs": [
        {
          "output_type": "stream",
          "name": "stdout",
          "text": [
            "True\n"
          ]
        }
      ]
    },
    {
      "cell_type": "code",
      "source": [
        "if my_Function():\n",
        "  print(\"True\")\n",
        "else:\n",
        "  print(\"False\")"
      ],
      "metadata": {
        "colab": {
          "base_uri": "https://localhost:8080/"
        },
        "id": "W-pWS7dcGhwC",
        "outputId": "e07c02d0-a837-4b58-ff3e-4da621d0e77a"
      },
      "execution_count": null,
      "outputs": [
        {
          "output_type": "stream",
          "name": "stdout",
          "text": [
            "True\n"
          ]
        }
      ]
    },
    {
      "cell_type": "markdown",
      "source": [
        "Application 1 "
      ],
      "metadata": {
        "id": "3uHMnZNrIE60"
      }
    },
    {
      "cell_type": "code",
      "source": [
        "print(a==b)\n",
        "print(a<b)"
      ],
      "metadata": {
        "colab": {
          "base_uri": "https://localhost:8080/"
        },
        "id": "raVMlOhRLfDu",
        "outputId": "a81e88f4-69b1-4f9b-b9b4-7fca3357d323"
      },
      "execution_count": null,
      "outputs": [
        {
          "output_type": "stream",
          "name": "stdout",
          "text": [
            "False\n",
            "False\n"
          ]
        }
      ]
    },
    {
      "cell_type": "markdown",
      "source": [
        "Python Operators"
      ],
      "metadata": {
        "id": "bRPGnHh2L8XF"
      }
    },
    {
      "cell_type": "code",
      "source": [
        "print(10+5)\n",
        "print(10-5)\n",
        "print(10/3)\n",
        "print(10*5)\n",
        "print(10%5)\n",
        "print(10//3)       #10/3 = 3.3333\n",
        "print(10**2)\n"
      ],
      "metadata": {
        "colab": {
          "base_uri": "https://localhost:8080/"
        },
        "id": "awt80XRpL-2p",
        "outputId": "fb089d81-9435-4c90-c0eb-fb584c35f5a4"
      },
      "execution_count": null,
      "outputs": [
        {
          "output_type": "stream",
          "name": "stdout",
          "text": [
            "15\n",
            "5\n",
            "3.3333333333333335\n",
            "50\n",
            "0\n",
            "3\n",
            "100\n"
          ]
        }
      ]
    },
    {
      "cell_type": "markdown",
      "source": [
        "Bitwise operators"
      ],
      "metadata": {
        "id": "9QsXZ8S5Ni1-"
      }
    },
    {
      "cell_type": "code",
      "source": [
        "c = 60 # binary 0011 1100\n",
        "d = 13 # binary 0000 1101\n",
        "\n",
        "c&d\n",
        "print(c|d)\n",
        "print(c^d)\n",
        "\n",
        "print(d<<2)"
      ],
      "metadata": {
        "colab": {
          "base_uri": "https://localhost:8080/"
        },
        "id": "Sa-UI7xtNk_5",
        "outputId": "d936b4ea-ed95-46cc-9232-083c4a2110c5"
      },
      "execution_count": null,
      "outputs": [
        {
          "output_type": "stream",
          "name": "stdout",
          "text": [
            "61\n",
            "49\n",
            "52\n"
          ]
        }
      ]
    },
    {
      "cell_type": "markdown",
      "source": [
        "Logical Operators"
      ],
      "metadata": {
        "id": "M1J95yPiIlDk"
      }
    },
    {
      "cell_type": "code",
      "source": [
        "h = True\n",
        "l = False\n",
        "h and l\n",
        "h or l\n",
        "not (h or l)"
      ],
      "metadata": {
        "colab": {
          "base_uri": "https://localhost:8080/"
        },
        "id": "pD6vcCWdPot_",
        "outputId": "4fb5288b-a5b2-4aa2-8d6c-2c33c441a04a"
      },
      "execution_count": null,
      "outputs": [
        {
          "output_type": "execute_result",
          "data": {
            "text/plain": [
              "False"
            ]
          },
          "metadata": {},
          "execution_count": 9
        }
      ]
    },
    {
      "cell_type": "markdown",
      "source": [
        "Application 2"
      ],
      "metadata": {
        "id": "x-_bKeVFIzYk"
      }
    },
    {
      "cell_type": "markdown",
      "source": [
        "Assignment : Python Operators"
      ],
      "metadata": {
        "id": "VL-cWw5xJFDs"
      }
    },
    {
      "cell_type": "code",
      "source": [
        "x = 100\n",
        "x+=3 # Same as x = x +3,  x = 100+3=103\n",
        "print(x)\n"
      ],
      "metadata": {
        "colab": {
          "base_uri": "https://localhost:8080/"
        },
        "id": "LSVIB7UtSHbK",
        "outputId": "2e25ec7a-e584-44c2-d3fb-4ece9151efc1"
      },
      "execution_count": null,
      "outputs": [
        {
          "output_type": "stream",
          "name": "stdout",
          "text": [
            "103\n"
          ]
        }
      ]
    },
    {
      "cell_type": "markdown",
      "source": [
        "Identity Operators"
      ],
      "metadata": {
        "id": "sPWbd4SSJOis"
      }
    },
    {
      "cell_type": "code",
      "source": [
        "h is l\n",
        "h is not l"
      ],
      "metadata": {
        "colab": {
          "base_uri": "https://localhost:8080/"
        },
        "id": "UvP7BTi6S7jy",
        "outputId": "7574c110-4c3f-4a07-cb29-39e605c51d43"
      },
      "execution_count": null,
      "outputs": [
        {
          "output_type": "execute_result",
          "data": {
            "text/plain": [
              "True"
            ]
          },
          "metadata": {},
          "execution_count": 11
        }
      ]
    },
    {
      "cell_type": "markdown",
      "source": [
        "Control Structure"
      ],
      "metadata": {
        "id": "Qg7rxtCXJekE"
      }
    },
    {
      "cell_type": "markdown",
      "source": [
        "If Statement"
      ],
      "metadata": {
        "id": "3SVybe9GJlHk"
      }
    },
    {
      "cell_type": "code",
      "source": [
        "if a>b:\n",
        "  print(\"a is greater than b\")"
      ],
      "metadata": {
        "colab": {
          "base_uri": "https://localhost:8080/"
        },
        "id": "jLmtoCqNTTgV",
        "outputId": "c98ab58a-3568-407e-be87-b7a79dc20dae"
      },
      "execution_count": null,
      "outputs": [
        {
          "output_type": "stream",
          "name": "stdout",
          "text": [
            "a is greater than b\n"
          ]
        }
      ]
    },
    {
      "cell_type": "markdown",
      "source": [
        "Elif statement"
      ],
      "metadata": {
        "id": "HCBjTAvGJyw8"
      }
    },
    {
      "cell_type": "code",
      "source": [
        "if a<b:\n",
        "  print(\"a is less than b\")\n",
        "elif a>b:\n",
        "  print(\"a is greater than b\")"
      ],
      "metadata": {
        "colab": {
          "base_uri": "https://localhost:8080/"
        },
        "id": "EGDKVer0UUMi",
        "outputId": "7a564c4c-a50b-431b-aa83-d5ed7fcbf68b"
      },
      "execution_count": null,
      "outputs": [
        {
          "output_type": "stream",
          "name": "stdout",
          "text": [
            "a is greater than b\n"
          ]
        }
      ]
    },
    {
      "cell_type": "markdown",
      "source": [
        "Else statement"
      ],
      "metadata": {
        "id": "m_oMllddJ5vk"
      }
    },
    {
      "cell_type": "code",
      "source": [
        "a= 10\n",
        "b =10\n",
        "\n",
        "if a>b:\n",
        "  print(\"a is greater than b\")\n",
        "elif a>b:\n",
        "  print(\"a is greater than b\")\n",
        "else:\n",
        "  print(\"a is equal to b\")"
      ],
      "metadata": {
        "colab": {
          "base_uri": "https://localhost:8080/"
        },
        "id": "2tRm_JbbUquT",
        "outputId": "36eb421a-e53e-432d-bc42-65b470d69dcf"
      },
      "execution_count": null,
      "outputs": [
        {
          "output_type": "stream",
          "name": "stdout",
          "text": [
            "a is equal to b\n"
          ]
        }
      ]
    },
    {
      "cell_type": "markdown",
      "source": [
        "Short hand if statement "
      ],
      "metadata": {
        "id": "RJ-CAj_AKFTE"
      }
    },
    {
      "cell_type": "code",
      "source": [
        "if a==b: print(\"a is equal to b\")"
      ],
      "metadata": {
        "colab": {
          "base_uri": "https://localhost:8080/"
        },
        "id": "qTsJOVlFVCl3",
        "outputId": "7e441206-3c51-4bf6-e8b4-194f557aca22"
      },
      "execution_count": null,
      "outputs": [
        {
          "output_type": "stream",
          "name": "stdout",
          "text": [
            "a is equal to b\n"
          ]
        }
      ]
    },
    {
      "cell_type": "markdown",
      "source": [
        "Short hand if else statement "
      ],
      "metadata": {
        "id": "4c-q4fviKKVs"
      }
    },
    {
      "cell_type": "code",
      "source": [
        "a = 10\n",
        "b = 9\n",
        "print(\"a is greater than b\") if a>b else print('b is greater than a')"
      ],
      "metadata": {
        "colab": {
          "base_uri": "https://localhost:8080/"
        },
        "id": "TaI8UGP4Vw5E",
        "outputId": "bcfa3da7-fcf7-4905-cc43-3c2258c5ec53"
      },
      "execution_count": null,
      "outputs": [
        {
          "output_type": "stream",
          "name": "stdout",
          "text": [
            "a is greater than b\n"
          ]
        }
      ]
    },
    {
      "cell_type": "markdown",
      "source": [
        "And "
      ],
      "metadata": {
        "id": "4YlUBM7zKS-k"
      }
    },
    {
      "cell_type": "code",
      "source": [
        "if a>b and b==b:\n",
        "  print(\"both conditions are True\")"
      ],
      "metadata": {
        "colab": {
          "base_uri": "https://localhost:8080/"
        },
        "id": "fV4DLwEzWoTD",
        "outputId": "f754bbbf-65eb-4a00-fb27-d72fd8538173"
      },
      "execution_count": null,
      "outputs": [
        {
          "output_type": "stream",
          "name": "stdout",
          "text": [
            "both conditions are True\n"
          ]
        }
      ]
    },
    {
      "cell_type": "markdown",
      "source": [
        "Or"
      ],
      "metadata": {
        "id": "3vxG494QKZkc"
      }
    },
    {
      "cell_type": "code",
      "source": [
        "if a<b or b==b:\n",
        "  print(\"the condition is True\")"
      ],
      "metadata": {
        "colab": {
          "base_uri": "https://localhost:8080/"
        },
        "id": "6-dXGIe4XVkV",
        "outputId": "58046d92-ed3b-4baa-ac5f-80f941061a86"
      },
      "execution_count": null,
      "outputs": [
        {
          "output_type": "stream",
          "name": "stdout",
          "text": [
            "the condition is True\n"
          ]
        }
      ]
    },
    {
      "cell_type": "markdown",
      "source": [
        "Nested if "
      ],
      "metadata": {
        "id": "lQvqwCOoKiQj"
      }
    },
    {
      "cell_type": "code",
      "source": [
        "x = int(input())\n",
        "\n",
        "if x>10:\n",
        "  print(\"x is above 10\")\n",
        "  if x>20:\n",
        "    print(\"and also above 20\")\n",
        "    if x>30:\n",
        "      print(\"and also above 30\")\n",
        "      if x>40:\n",
        "        print(\"and also above 40\")\n",
        "        if x>50:\n",
        "          print(\"and also above 50\")\n",
        "        else:\n",
        "          print(\"but not above 50\")"
      ],
      "metadata": {
        "colab": {
          "base_uri": "https://localhost:8080/"
        },
        "id": "huXDb6mBX1yM",
        "outputId": "c355f328-a06b-4f19-f8b0-5c21b8f5a9be"
      },
      "execution_count": 1,
      "outputs": [
        {
          "output_type": "stream",
          "name": "stdout",
          "text": [
            "48\n",
            "x is above 10\n",
            "and also above 20\n",
            "and also above 30\n",
            "and also above 40\n",
            "but not above 50\n"
          ]
        }
      ]
    },
    {
      "cell_type": "markdown",
      "source": [
        "Loop statement"
      ],
      "metadata": {
        "id": "wU3PBSVHKy6E"
      }
    },
    {
      "cell_type": "markdown",
      "source": [
        "For loop "
      ],
      "metadata": {
        "id": "gSdQq7F0K40r"
      }
    },
    {
      "cell_type": "code",
      "source": [
        "week = ['Sunday',\"Monday\",'Tuesday', \"Wednesday\",\"Thursday\",\"Friday\",\"Saturday\"]\n",
        "\n",
        "for x in week:\n",
        "  print(x)"
      ],
      "metadata": {
        "colab": {
          "base_uri": "https://localhost:8080/"
        },
        "id": "GslmRjkTaqXc",
        "outputId": "5d55f7d2-8e52-4361-d5b0-3b60a5a11741"
      },
      "execution_count": null,
      "outputs": [
        {
          "output_type": "stream",
          "name": "stdout",
          "text": [
            "Sunday\n",
            "Monday\n",
            "Tuesday\n",
            "Wednesday\n",
            "Thursday\n",
            "Friday\n",
            "Saturday\n"
          ]
        }
      ]
    },
    {
      "cell_type": "markdown",
      "source": [
        "The break statement "
      ],
      "metadata": {
        "id": "4p0g_n71LAk0"
      }
    },
    {
      "cell_type": "code",
      "source": [
        "#to display Sunday to Wednesday using For loop\n",
        "for x in week:\n",
        "  print(x)\n",
        "  if x==\"Wednesday\":\n",
        "    break\n",
        "\n"
      ],
      "metadata": {
        "colab": {
          "base_uri": "https://localhost:8080/"
        },
        "id": "nT7BYBOKbDTJ",
        "outputId": "7adc5ca9-4095-4857-a892-9b0cbf418d15"
      },
      "execution_count": null,
      "outputs": [
        {
          "output_type": "stream",
          "name": "stdout",
          "text": [
            "Sunday\n",
            "Monday\n",
            "Tuesday\n",
            "Wednesday\n"
          ]
        }
      ]
    },
    {
      "cell_type": "code",
      "source": [
        "#to display only Wednesday using break statement\n",
        "\n",
        "for x in week:\n",
        "  if x==\"Wednesday\":\n",
        "    break\n",
        "print(x)"
      ],
      "metadata": {
        "colab": {
          "base_uri": "https://localhost:8080/"
        },
        "id": "L6XDlUebcq49",
        "outputId": "fca9f60f-ab5a-407d-b278-d20a42c47683"
      },
      "execution_count": null,
      "outputs": [
        {
          "output_type": "stream",
          "name": "stdout",
          "text": [
            "Wednesday\n"
          ]
        }
      ]
    },
    {
      "cell_type": "markdown",
      "source": [
        "While statement "
      ],
      "metadata": {
        "id": "gVlABaT7LfMz"
      }
    },
    {
      "cell_type": "code",
      "source": [
        "i =1\n",
        "while i<6:\n",
        "  print(i)\n",
        "  i+=1   #same as i = i +1"
      ],
      "metadata": {
        "colab": {
          "base_uri": "https://localhost:8080/"
        },
        "id": "FTI-C9Osc0bG",
        "outputId": "0d0798d0-2977-445f-add9-ea9ed3f67043"
      },
      "execution_count": null,
      "outputs": [
        {
          "output_type": "stream",
          "name": "stdout",
          "text": [
            "1\n",
            "2\n",
            "3\n",
            "4\n",
            "5\n"
          ]
        }
      ]
    },
    {
      "cell_type": "markdown",
      "source": [
        "Application 3 - Create a python program that displays no.3 using break statement"
      ],
      "metadata": {
        "id": "QxJkggjqdYLU"
      }
    },
    {
      "cell_type": "code",
      "source": [
        "i =1\n",
        "while i<6:\n",
        "  if i==3:\n",
        "    break\n",
        "  i+=1\n",
        "print(i)"
      ],
      "metadata": {
        "colab": {
          "base_uri": "https://localhost:8080/"
        },
        "id": "up8Ck7HxdkdF",
        "outputId": "524fc028-305c-48f9-82bd-24031172d048"
      },
      "execution_count": null,
      "outputs": [
        {
          "output_type": "stream",
          "name": "stdout",
          "text": [
            "3\n"
          ]
        }
      ]
    }
  ]
}