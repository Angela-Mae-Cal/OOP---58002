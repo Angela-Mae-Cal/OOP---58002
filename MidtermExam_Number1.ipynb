{
  "nbformat": 4,
  "nbformat_minor": 0,
  "metadata": {
    "colab": {
      "name": "MidtermExam_Number1.ipynb",
      "provenance": [],
      "authorship_tag": "ABX9TyNVFrnMbEO4FvcjxFHWWsm+",
      "include_colab_link": true
    },
    "kernelspec": {
      "name": "python3",
      "display_name": "Python 3"
    },
    "language_info": {
      "name": "python"
    }
  },
  "cells": [
    {
      "cell_type": "markdown",
      "metadata": {
        "id": "view-in-github",
        "colab_type": "text"
      },
      "source": [
        "<a href=\"https://colab.research.google.com/github/Cally02/OOP---58002/blob/main/MidtermExam_Number1.ipynb\" target=\"_parent\"><img src=\"https://colab.research.google.com/assets/colab-badge.svg\" alt=\"Open In Colab\"/></a>"
      ]
    },
    {
      "cell_type": "markdown",
      "source": [
        "Program 1: Modify the program below by adding two conversion methods - Fahrenheit to Celsius and Kelvin to Celsius (50 points)"
      ],
      "metadata": {
        "id": "uBGpSX1NfX7w"
      }
    },
    {
      "cell_type": "code",
      "source": [
        "def main():\n",
        "\n",
        "  \n",
        "\n",
        " class TemperatureConversion:\n",
        "\n",
        "  def __init__(self, temp=1):\n",
        "\n",
        "   self._temp = temp\n",
        "\n",
        " class FahrenheitToCelsius(TemperatureConversion):\n",
        "\n",
        "  def conversion(self):\n",
        "\n",
        "   return ((self._temp - 32) * 5)/9\n",
        "\n",
        " class KelvinToCelsius(TemperatureConversion):\n",
        "\n",
        "  def conversion(self):\n",
        "\n",
        "   return self._temp - 273.15\n",
        "\n",
        " tempInCelsius = float(input(\"Enter the temperature : \"))\n",
        "\n",
        " convert = KelvinToCelsius(tempInCelsius)\n",
        "\n",
        " print(\"In kelvin to Celsius : \" + str(convert.conversion()) + \" c \" )\n",
        "\n",
        " convert = FahrenheitToCelsius(tempInCelsius)\n",
        "\n",
        " print(\"In Fahrenheit to Celsius : \" +str(convert.conversion()) + \" c \")\n",
        "\n",
        "\n",
        "\n",
        "main()"
      ],
      "metadata": {
        "colab": {
          "base_uri": "https://localhost:8080/"
        },
        "id": "VRQQsR10fbyY",
        "outputId": "85d8e323-186b-4b05-e4d6-33ba8e577874"
      },
      "execution_count": 14,
      "outputs": [
        {
          "output_type": "stream",
          "name": "stdout",
          "text": [
            "Enter the temperature : 45\n",
            "In kelvin to Celsius : -228.14999999999998 c \n",
            "In Fahrenheit to Celsius : 7.222222222222222 c \n"
          ]
        }
      ]
    }
  ]
}