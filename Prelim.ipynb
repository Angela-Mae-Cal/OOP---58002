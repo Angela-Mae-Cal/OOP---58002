{
  "nbformat": 4,
  "nbformat_minor": 0,
  "metadata": {
    "colab": {
      "name": "Prelim.ipynb",
      "provenance": [],
      "authorship_tag": "ABX9TyMX4MAyCv39M5qOxZuhWyyf",
      "include_colab_link": true
    },
    "kernelspec": {
      "name": "python3",
      "display_name": "Python 3"
    },
    "language_info": {
      "name": "python"
    }
  },
  "cells": [
    {
      "cell_type": "markdown",
      "metadata": {
        "id": "view-in-github",
        "colab_type": "text"
      },
      "source": [
        "<a href=\"https://colab.research.google.com/github/Cally02/OOP---58002/blob/main/Prelim.ipynb\" target=\"_parent\"><img src=\"https://colab.research.google.com/assets/colab-badge.svg\" alt=\"Open In Colab\"/></a>"
      ]
    },
    {
      "cell_type": "code",
      "execution_count": 10,
      "metadata": {
        "colab": {
          "base_uri": "https://localhost:8080/"
        },
        "id": "AD6skaDFRUAS",
        "outputId": "ada99e81-8134-4e5b-e804-6452a34cfcc9"
      },
      "outputs": [
        {
          "output_type": "stream",
          "name": "stdout",
          "text": [
            "Hi! I am Cal, Angela A.\n",
            "Student number : 202111287\n",
            "Program :  B.S in Computer Engineering (CPE)\n",
            "School :  Adamson University\n"
          ]
        }
      ],
      "source": [
        "class Person:\n",
        "  def __init__(self, student, number, school, course):\n",
        "    self.student = student\n",
        "    self.number = number\n",
        "    self.school = school\n",
        "    self.course = course\n",
        "  def myFunction(self):\n",
        "    print(\"Hi! I am\", self.student) \n",
        "    print(\"Student number :\", self.number)\n",
        "    print(\"Program : \", self.course)\n",
        "    print(\"School : \" , self.school)\n",
        "  \n",
        "    \n",
        "\n",
        "p1 = Person(\"Cal, Angela A.\", 202111287, \"Adamson University\", \"B.S in Computer Engineering (CPE)\")\n",
        "p1.myFunction()"
      ]
    }
  ]
}